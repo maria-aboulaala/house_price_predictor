{
 "cells": [
  {
   "cell_type": "code",
   "execution_count": 65,
   "id": "670f369c-ac4c-4592-8bfa-0dd5774c83c2",
   "metadata": {},
   "outputs": [],
   "source": [
    "import scrapy\n",
    "from scrapy.crawler import CrawlerProcess\n"
   ]
  },
  {
   "cell_type": "code",
   "execution_count": 47,
   "id": "2ec93b2a-b371-49dc-81e5-98df09889a92",
   "metadata": {},
   "outputs": [],
   "source": [
    "class saroutySpider(scrapy.Spider):\n",
    "    name = \"sarouty\"\n",
    "    "
   ]
  },
  {
   "cell_type": "code",
   "execution_count": 48,
   "id": "a797698e-8f98-40d4-9614-e26d1823237f",
   "metadata": {},
   "outputs": [],
   "source": [
    "def start_requests(self):\n",
    "    urls = ['https://www.sarouty.ma' ]\n",
    "    for url in urls:\n",
    "        yield scrapy.Requests(url = url , callback = self.parse)\n",
    "        "
   ]
  },
  {
   "cell_type": "code",
   "execution_count": 63,
   "id": "9fea4dee-ed82-4e55-802c-bc239a45824b",
   "metadata": {},
   "outputs": [],
   "source": [
    "def parse(self, response):\n",
    "    html_file = 'sarouty_file.html'\n",
    "    with open (html_file , 'wb') as fout:\n",
    "        fout.write(response.body)\n",
    "        price = response.css('div.featured-properties__price::text').extract()\n",
    "   \n",
    "   "
   ]
  },
  {
   "cell_type": "code",
   "execution_count": 66,
   "id": "72dde26d-3eb0-4220-ad6a-5768a93692c2",
   "metadata": {},
   "outputs": [
    {
     "name": "stderr",
     "output_type": "stream",
     "text": [
      "2022-05-05 21:03:29 [scrapy.utils.log] INFO: Scrapy 2.6.1 started (bot: scrapybot)\n",
      "2022-05-05 21:03:29 [scrapy.utils.log] INFO: Versions: lxml 4.6.3.0, libxml2 2.9.12, cssselect 1.1.0, parsel 1.6.0, w3lib 1.22.0, Twisted 22.2.0, Python 3.9.7 (default, Sep 16 2021, 08:50:36) - [Clang 10.0.0 ], pyOpenSSL 21.0.0 (OpenSSL 1.1.1l  24 Aug 2021), cryptography 3.4.8, Platform macOS-10.15.7-x86_64-i386-64bit\n",
      "2022-05-05 21:03:29 [scrapy.crawler] INFO: Overridden settings:\n",
      "{}\n",
      "2022-05-05 21:03:29 [scrapy.utils.log] DEBUG: Using reactor: twisted.internet.selectreactor.SelectReactor\n",
      "2022-05-05 21:03:29 [scrapy.extensions.telnet] INFO: Telnet Password: 7fa25636b033ca6c\n",
      "2022-05-05 21:03:29 [scrapy.middleware] INFO: Enabled extensions:\n",
      "['scrapy.extensions.corestats.CoreStats',\n",
      " 'scrapy.extensions.telnet.TelnetConsole',\n",
      " 'scrapy.extensions.memusage.MemoryUsage',\n",
      " 'scrapy.extensions.logstats.LogStats']\n",
      "2022-05-05 21:03:29 [scrapy.middleware] INFO: Enabled downloader middlewares:\n",
      "['scrapy.downloadermiddlewares.httpauth.HttpAuthMiddleware',\n",
      " 'scrapy.downloadermiddlewares.downloadtimeout.DownloadTimeoutMiddleware',\n",
      " 'scrapy.downloadermiddlewares.defaultheaders.DefaultHeadersMiddleware',\n",
      " 'scrapy.downloadermiddlewares.useragent.UserAgentMiddleware',\n",
      " 'scrapy.downloadermiddlewares.retry.RetryMiddleware',\n",
      " 'scrapy.downloadermiddlewares.redirect.MetaRefreshMiddleware',\n",
      " 'scrapy.downloadermiddlewares.httpcompression.HttpCompressionMiddleware',\n",
      " 'scrapy.downloadermiddlewares.redirect.RedirectMiddleware',\n",
      " 'scrapy.downloadermiddlewares.cookies.CookiesMiddleware',\n",
      " 'scrapy.downloadermiddlewares.httpproxy.HttpProxyMiddleware',\n",
      " 'scrapy.downloadermiddlewares.stats.DownloaderStats']\n",
      "2022-05-05 21:03:29 [scrapy.middleware] INFO: Enabled spider middlewares:\n",
      "['scrapy.spidermiddlewares.httperror.HttpErrorMiddleware',\n",
      " 'scrapy.spidermiddlewares.offsite.OffsiteMiddleware',\n",
      " 'scrapy.spidermiddlewares.referer.RefererMiddleware',\n",
      " 'scrapy.spidermiddlewares.urllength.UrlLengthMiddleware',\n",
      " 'scrapy.spidermiddlewares.depth.DepthMiddleware']\n",
      "2022-05-05 21:03:29 [scrapy.middleware] INFO: Enabled item pipelines:\n",
      "[]\n",
      "2022-05-05 21:03:29 [scrapy.core.engine] INFO: Spider opened\n",
      "2022-05-05 21:03:29 [scrapy.extensions.logstats] INFO: Crawled 0 pages (at 0 pages/min), scraped 0 items (at 0 items/min)\n",
      "2022-05-05 21:03:29 [scrapy.extensions.telnet] INFO: Telnet console listening on 127.0.0.1:6024\n",
      "2022-05-05 21:03:29 [scrapy.core.engine] INFO: Closing spider (finished)\n",
      "2022-05-05 21:03:29 [scrapy.statscollectors] INFO: Dumping Scrapy stats:\n",
      "{'elapsed_time_seconds': 0.010015,\n",
      " 'finish_reason': 'finished',\n",
      " 'finish_time': datetime.datetime(2022, 5, 5, 21, 3, 29, 340521),\n",
      " 'log_count/DEBUG': 1,\n",
      " 'log_count/INFO': 10,\n",
      " 'memusage/max': 100700160,\n",
      " 'memusage/startup': 100700160,\n",
      " 'start_time': datetime.datetime(2022, 5, 5, 21, 3, 29, 330506)}\n",
      "2022-05-05 21:03:29 [scrapy.core.engine] INFO: Spider closed (finished)\n"
     ]
    }
   ],
   "source": [
    "import sys    \n",
    "if \"twisted.internet.reactor\" in sys.modules: del sys.modules[\"twisted.internet.reactor\"]\n",
    "process = CrawlerProcess()\n",
    "process.crawl(saroutySpider)\n",
    "process.start()\n"
   ]
  },
  {
   "cell_type": "code",
   "execution_count": null,
   "id": "054b1425-ab68-4a7f-b740-856c290f8174",
   "metadata": {},
   "outputs": [],
   "source": []
  }
 ],
 "metadata": {
  "kernelspec": {
   "display_name": "Python 3 (ipykernel)",
   "language": "python",
   "name": "python3"
  },
  "language_info": {
   "codemirror_mode": {
    "name": "ipython",
    "version": 3
   },
   "file_extension": ".py",
   "mimetype": "text/x-python",
   "name": "python",
   "nbconvert_exporter": "python",
   "pygments_lexer": "ipython3",
   "version": "3.9.7"
  }
 },
 "nbformat": 4,
 "nbformat_minor": 5
}
