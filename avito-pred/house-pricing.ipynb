{
 "cells": [
  {
   "cell_type": "markdown",
   "metadata": {},
   "source": [
    "# Data Cleaning\n",
    "Now that we have _raw_ scrapping data its time to clean it up. "
   ]
  },
  {
   "cell_type": "code",
   "execution_count": 1,
   "metadata": {},
   "outputs": [
    {
     "name": "stdout",
     "output_type": "stream",
     "text": [
      "(1988, 12)\n"
     ]
    },
    {
     "data": {
      "text/html": [
       "<div>\n",
       "<style scoped>\n",
       "    .dataframe tbody tr th:only-of-type {\n",
       "        vertical-align: middle;\n",
       "    }\n",
       "\n",
       "    .dataframe tbody tr th {\n",
       "        vertical-align: top;\n",
       "    }\n",
       "\n",
       "    .dataframe thead th {\n",
       "        text-align: right;\n",
       "    }\n",
       "</style>\n",
       "<table border=\"1\" class=\"dataframe\">\n",
       "  <thead>\n",
       "    <tr style=\"text-align: right;\">\n",
       "      <th></th>\n",
       "      <th>subject</th>\n",
       "      <th>description</th>\n",
       "      <th>Price</th>\n",
       "      <th>Type</th>\n",
       "      <th>Secteur</th>\n",
       "      <th>Prix / m²</th>\n",
       "      <th>Salons</th>\n",
       "      <th>Frais de syndic / mois</th>\n",
       "      <th>Étage</th>\n",
       "      <th>Âge du bien</th>\n",
       "      <th>Surface habitable</th>\n",
       "      <th>link</th>\n",
       "    </tr>\n",
       "  </thead>\n",
       "  <tbody>\n",
       "    <tr>\n",
       "      <th>0</th>\n",
       "      <td>Appartement à Haut Anza</td>\n",
       "      <td>Appartement neuf bien agencé à trois façades d...</td>\n",
       "      <td>305000</td>\n",
       "      <td>Appartements, Vente</td>\n",
       "      <td>Haut Anza</td>\n",
       "      <td>NaN</td>\n",
       "      <td>1.0</td>\n",
       "      <td>50 DH</td>\n",
       "      <td>3</td>\n",
       "      <td>NaN</td>\n",
       "      <td>60 m²</td>\n",
       "      <td>https://avito.ma/fr/haut_anza/appartements/App...</td>\n",
       "    </tr>\n",
       "    <tr>\n",
       "      <th>1</th>\n",
       "      <td>appartement à vendre Hay Salam Agadir</td>\n",
       "      <td>Appartements à vendre dans la première ville d...</td>\n",
       "      <td>480000</td>\n",
       "      <td>Appartements, Vente</td>\n",
       "      <td>Hay Salam</td>\n",
       "      <td>NaN</td>\n",
       "      <td>1.0</td>\n",
       "      <td>100 DH</td>\n",
       "      <td>3</td>\n",
       "      <td>NaN</td>\n",
       "      <td>64 m²</td>\n",
       "      <td>https://avito.ma/fr/hay_salam/appartements/app...</td>\n",
       "    </tr>\n",
       "  </tbody>\n",
       "</table>\n",
       "</div>"
      ],
      "text/plain": [
       "                                  subject  \\\n",
       "0                 Appartement à Haut Anza   \n",
       "1  appartement à vendre Hay Salam Agadir    \n",
       "\n",
       "                                         description   Price  \\\n",
       "0  Appartement neuf bien agencé à trois façades d...  305000   \n",
       "1  Appartements à vendre dans la première ville d...  480000   \n",
       "\n",
       "                  Type    Secteur Prix / m²  Salons Frais de syndic / mois  \\\n",
       "0  Appartements, Vente  Haut Anza       NaN     1.0                  50 DH   \n",
       "1  Appartements, Vente  Hay Salam       NaN     1.0                 100 DH   \n",
       "\n",
       "  Étage Âge du bien Surface habitable  \\\n",
       "0     3         NaN             60 m²   \n",
       "1     3         NaN             64 m²   \n",
       "\n",
       "                                                link  \n",
       "0  https://avito.ma/fr/haut_anza/appartements/App...  \n",
       "1  https://avito.ma/fr/hay_salam/appartements/app...  "
      ]
     },
     "execution_count": 1,
     "metadata": {},
     "output_type": "execute_result"
    }
   ],
   "source": [
    "import pandas as pd\n",
    "\n",
    "raw_data = pd.read_csv(\"data/avito_data.csv\",index_col=0)\n",
    "print(raw_data.shape)\n",
    "raw_data.head(2)"
   ]
  },
  {
   "cell_type": "markdown",
   "metadata": {},
   "source": [
    "First of all we see alot of NaN values meaning missing value and douplicates rows\n"
   ]
  },
  {
   "cell_type": "markdown",
   "metadata": {},
   "source": [
    " To find duplicate values in the dataset we will use a simple dataframe function : duplicated()"
   ]
  },
  {
   "cell_type": "code",
   "execution_count": 2,
   "metadata": {},
   "outputs": [
    {
     "data": {
      "text/plain": [
       "0       False\n",
       "1       False\n",
       "2       False\n",
       "3       False\n",
       "4       False\n",
       "        ...  \n",
       "1983    False\n",
       "1984    False\n",
       "1985    False\n",
       "1986    False\n",
       "1987    False\n",
       "Length: 1988, dtype: bool"
      ]
     },
     "execution_count": 2,
     "metadata": {},
     "output_type": "execute_result"
    }
   ],
   "source": [
    "dupli=raw_data.duplicated()\n",
    "dupli"
   ]
  },
  {
   "cell_type": "markdown",
   "metadata": {},
   "source": [
    "This function provides bool values for duplicate values in the dataset."
   ]
  },
  {
   "cell_type": "code",
   "execution_count": 3,
   "metadata": {},
   "outputs": [
    {
     "name": "stdout",
     "output_type": "stream",
     "text": [
      "(196, 12)\n"
     ]
    },
    {
     "data": {
      "text/html": [
       "<div>\n",
       "<style scoped>\n",
       "    .dataframe tbody tr th:only-of-type {\n",
       "        vertical-align: middle;\n",
       "    }\n",
       "\n",
       "    .dataframe tbody tr th {\n",
       "        vertical-align: top;\n",
       "    }\n",
       "\n",
       "    .dataframe thead th {\n",
       "        text-align: right;\n",
       "    }\n",
       "</style>\n",
       "<table border=\"1\" class=\"dataframe\">\n",
       "  <thead>\n",
       "    <tr style=\"text-align: right;\">\n",
       "      <th></th>\n",
       "      <th>subject</th>\n",
       "      <th>description</th>\n",
       "      <th>Price</th>\n",
       "      <th>Type</th>\n",
       "      <th>Secteur</th>\n",
       "      <th>Prix / m²</th>\n",
       "      <th>Salons</th>\n",
       "      <th>Frais de syndic / mois</th>\n",
       "      <th>Étage</th>\n",
       "      <th>Âge du bien</th>\n",
       "      <th>Surface habitable</th>\n",
       "      <th>link</th>\n",
       "    </tr>\n",
       "  </thead>\n",
       "  <tbody>\n",
       "    <tr>\n",
       "      <th>35</th>\n",
       "      <td>Appartement à Haut Anza</td>\n",
       "      <td>Appartement neuf bien agencé à trois façades d...</td>\n",
       "      <td>305000</td>\n",
       "      <td>Appartements, Vente</td>\n",
       "      <td>Haut Anza</td>\n",
       "      <td>NaN</td>\n",
       "      <td>1.0</td>\n",
       "      <td>50 DH</td>\n",
       "      <td>3</td>\n",
       "      <td>NaN</td>\n",
       "      <td>60 m²</td>\n",
       "      <td>https://avito.ma/fr/haut_anza/appartements/App...</td>\n",
       "    </tr>\n",
       "    <tr>\n",
       "      <th>36</th>\n",
       "      <td>appartement à vendre Hay Salam Agadir</td>\n",
       "      <td>Appartements à vendre dans la première ville d...</td>\n",
       "      <td>480000</td>\n",
       "      <td>Appartements, Vente</td>\n",
       "      <td>Hay Salam</td>\n",
       "      <td>NaN</td>\n",
       "      <td>1.0</td>\n",
       "      <td>100 DH</td>\n",
       "      <td>3</td>\n",
       "      <td>NaN</td>\n",
       "      <td>64 m²</td>\n",
       "      <td>https://avito.ma/fr/hay_salam/appartements/app...</td>\n",
       "    </tr>\n",
       "  </tbody>\n",
       "</table>\n",
       "</div>"
      ],
      "text/plain": [
       "                                   subject  \\\n",
       "35                 Appartement à Haut Anza   \n",
       "36  appartement à vendre Hay Salam Agadir    \n",
       "\n",
       "                                          description   Price  \\\n",
       "35  Appartement neuf bien agencé à trois façades d...  305000   \n",
       "36  Appartements à vendre dans la première ville d...  480000   \n",
       "\n",
       "                   Type    Secteur Prix / m²  Salons Frais de syndic / mois  \\\n",
       "35  Appartements, Vente  Haut Anza       NaN     1.0                  50 DH   \n",
       "36  Appartements, Vente  Hay Salam       NaN     1.0                 100 DH   \n",
       "\n",
       "   Étage Âge du bien Surface habitable  \\\n",
       "35     3         NaN             60 m²   \n",
       "36     3         NaN             64 m²   \n",
       "\n",
       "                                                 link  \n",
       "35  https://avito.ma/fr/haut_anza/appartements/App...  \n",
       "36  https://avito.ma/fr/hay_salam/appartements/app...  "
      ]
     },
     "execution_count": 3,
     "metadata": {},
     "output_type": "execute_result"
    }
   ],
   "source": [
    "print(raw_data[dupli].shape)\n",
    "raw_data[dupli].head(2)\n"
   ]
  },
  {
   "cell_type": "markdown",
   "metadata": {},
   "source": [
    "There are 196 duplicates we need to remove them, the method .drop_duplicates() does excatly what we want "
   ]
  },
  {
   "cell_type": "code",
   "execution_count": 4,
   "metadata": {},
   "outputs": [],
   "source": [
    "db_data=raw_data.drop_duplicates()"
   ]
  },
  {
   "cell_type": "code",
   "execution_count": 5,
   "metadata": {},
   "outputs": [
    {
     "name": "stdout",
     "output_type": "stream",
     "text": [
      "(1988, 12) (1792, 12)\n"
     ]
    }
   ],
   "source": [
    "print(raw_data.shape,db_data.shape)"
   ]
  },
  {
   "cell_type": "markdown",
   "metadata": {},
   "source": [
    "Now lets get some info on each column of the dataset."
   ]
  },
  {
   "cell_type": "code",
   "execution_count": 6,
   "metadata": {},
   "outputs": [
    {
     "name": "stdout",
     "output_type": "stream",
     "text": [
      "<class 'pandas.core.frame.DataFrame'>\n",
      "Int64Index: 1792 entries, 0 to 1987\n",
      "Data columns (total 12 columns):\n",
      " #   Column                  Non-Null Count  Dtype  \n",
      "---  ------                  --------------  -----  \n",
      " 0   subject                 1792 non-null   object \n",
      " 1   description             1792 non-null   object \n",
      " 2   Price                   1792 non-null   int64  \n",
      " 3   Type                    1792 non-null   object \n",
      " 4   Secteur                 1792 non-null   object \n",
      " 5   Prix / m²               2 non-null      object \n",
      " 6   Salons                  1445 non-null   float64\n",
      " 7   Frais de syndic / mois  647 non-null    object \n",
      " 8   Étage                   1572 non-null   object \n",
      " 9   Âge du bien             968 non-null    object \n",
      " 10  Surface habitable       1038 non-null   object \n",
      " 11  link                    1792 non-null   object \n",
      "dtypes: float64(1), int64(1), object(10)\n",
      "memory usage: 182.0+ KB\n"
     ]
    }
   ],
   "source": [
    "db_data.info()"
   ]
  },
  {
   "cell_type": "markdown",
   "metadata": {},
   "source": [
    "As you can see the **Prix / m²** column only has 2 non null valeus its safe to drop this column all together since it's not very useful "
   ]
  },
  {
   "cell_type": "code",
   "execution_count": 7,
   "metadata": {},
   "outputs": [],
   "source": [
    "db_data=db_data.drop(columns=['Prix / m²'])"
   ]
  },
  {
   "cell_type": "markdown",
   "metadata": {},
   "source": [
    "the **Surface habitable** column has alot of Null valeus, this column is important to our analysis so we cant drop it we have to deal with these missing valeus.\n",
    "Luckly the **subject** and **description** comlumns may have these missing valeus."
   ]
  },
  {
   "cell_type": "markdown",
   "metadata": {},
   "source": [
    "## Dealing with NaN"
   ]
  },
  {
   "cell_type": "code",
   "execution_count": 8,
   "metadata": {},
   "outputs": [
    {
     "data": {
      "text/html": [
       "<div>\n",
       "<style scoped>\n",
       "    .dataframe tbody tr th:only-of-type {\n",
       "        vertical-align: middle;\n",
       "    }\n",
       "\n",
       "    .dataframe tbody tr th {\n",
       "        vertical-align: top;\n",
       "    }\n",
       "\n",
       "    .dataframe thead th {\n",
       "        text-align: right;\n",
       "    }\n",
       "</style>\n",
       "<table border=\"1\" class=\"dataframe\">\n",
       "  <thead>\n",
       "    <tr style=\"text-align: right;\">\n",
       "      <th></th>\n",
       "      <th>subject</th>\n",
       "      <th>description</th>\n",
       "      <th>Price</th>\n",
       "      <th>Type</th>\n",
       "      <th>Secteur</th>\n",
       "      <th>Salons</th>\n",
       "      <th>Frais de syndic / mois</th>\n",
       "      <th>Étage</th>\n",
       "      <th>Âge du bien</th>\n",
       "      <th>Surface habitable</th>\n",
       "      <th>link</th>\n",
       "    </tr>\n",
       "  </thead>\n",
       "  <tbody>\n",
       "    <tr>\n",
       "      <th>0</th>\n",
       "      <td>Appartement à Haut Anza</td>\n",
       "      <td>Appartement neuf bien agencé à trois façades d...</td>\n",
       "      <td>305000</td>\n",
       "      <td>Appartements, Vente</td>\n",
       "      <td>Haut Anza</td>\n",
       "      <td>1.0</td>\n",
       "      <td>50 DH</td>\n",
       "      <td>3</td>\n",
       "      <td>NaN</td>\n",
       "      <td>60 m²</td>\n",
       "      <td>https://avito.ma/fr/haut_anza/appartements/App...</td>\n",
       "    </tr>\n",
       "    <tr>\n",
       "      <th>1</th>\n",
       "      <td>appartement à vendre Hay Salam Agadir</td>\n",
       "      <td>Appartements à vendre dans la première ville d...</td>\n",
       "      <td>480000</td>\n",
       "      <td>Appartements, Vente</td>\n",
       "      <td>Hay Salam</td>\n",
       "      <td>1.0</td>\n",
       "      <td>100 DH</td>\n",
       "      <td>3</td>\n",
       "      <td>NaN</td>\n",
       "      <td>64 m²</td>\n",
       "      <td>https://avito.ma/fr/hay_salam/appartements/app...</td>\n",
       "    </tr>\n",
       "  </tbody>\n",
       "</table>\n",
       "</div>"
      ],
      "text/plain": [
       "                                  subject  \\\n",
       "0                 Appartement à Haut Anza   \n",
       "1  appartement à vendre Hay Salam Agadir    \n",
       "\n",
       "                                         description   Price  \\\n",
       "0  Appartement neuf bien agencé à trois façades d...  305000   \n",
       "1  Appartements à vendre dans la première ville d...  480000   \n",
       "\n",
       "                  Type    Secteur  Salons Frais de syndic / mois Étage  \\\n",
       "0  Appartements, Vente  Haut Anza     1.0                  50 DH     3   \n",
       "1  Appartements, Vente  Hay Salam     1.0                 100 DH     3   \n",
       "\n",
       "  Âge du bien Surface habitable  \\\n",
       "0         NaN             60 m²   \n",
       "1         NaN             64 m²   \n",
       "\n",
       "                                                link  \n",
       "0  https://avito.ma/fr/haut_anza/appartements/App...  \n",
       "1  https://avito.ma/fr/hay_salam/appartements/app...  "
      ]
     },
     "execution_count": 8,
     "metadata": {},
     "output_type": "execute_result"
    }
   ],
   "source": [
    "db_data.head(2)"
   ]
  },
  {
   "cell_type": "code",
   "execution_count": null,
   "metadata": {},
   "outputs": [],
   "source": []
  },
  {
   "cell_type": "code",
   "execution_count": 68,
   "metadata": {},
   "outputs": [],
   "source": [
    "df=db_data[db_data[\"Surface habitable\"].isna()][['subject','description',\"Surface habitable\",'Price','link']]"
   ]
  },
  {
   "cell_type": "markdown",
   "metadata": {},
   "source": [
    "60m2,109 mètre , 88m², 68 m2 \n",
    "60م ,  \n",
    "85 متر\n",
    "85متر "
   ]
  },
  {
   "cell_type": "code",
   "execution_count": 69,
   "metadata": {},
   "outputs": [
    {
     "name": "stdout",
     "output_type": "stream",
     "text": [
      "شقق عائلية للبيع مفروشة ب (اقامة تزرزيت ) الحي المحمادي\n",
      "شقة جيدة للبيع ب الحي المحمدي اكادير ، مساحتها الإجمالية 54متر، تتواجد بالطابق الثالث ، تتوفر على 2 غرف ، صالون، حمام ، ومطبخ\n",
      "تمن البيع 480000\n",
      "للمزيد من المعلومات المرجو الاتصال بنا\n",
      " \n",
      "\n",
      " 480000 \n",
      "\n",
      " شقة  للبيع مفروشة ب اقامة تزرزيت الحي المحمادي\n"
     ]
    }
   ],
   "source": [
    "i=49\n",
    "\n",
    "\n",
    "\n",
    "print(df['description'].iloc[i],'\\n\\n',df['Price'].iloc[i],'\\n\\n',df['subject'].iloc[i])"
   ]
  },
  {
   "cell_type": "code",
   "execution_count": 201,
   "metadata": {},
   "outputs": [
    {
     "data": {
      "text/plain": [
       "'Affaire urgent reste deux appartements titres à vendre au village de Tamraght :\\r\\n   -109 mètre : 520.000 dh \\r\\n- 2 chambres , salon , cuisine équipée , deux salles de bain .\\r\\n*Honoraires de l’agence :\\r\\n- En cas de vente : 2.5 % HT du montant de la vente.\\r\\n*La signature d’un bon de visite est obligatoire.\\r\\nPour Infos veillez contacter\\r\\n'"
      ]
     },
     "execution_count": 201,
     "metadata": {},
     "output_type": "execute_result"
    }
   ],
   "source": [
    "text=df['description'].iloc[2]\n",
    "text"
   ]
  },
  {
   "cell_type": "code",
   "execution_count": 165,
   "metadata": {},
   "outputs": [],
   "source": [
    "import re\n",
    "\n"
   ]
  },
  {
   "cell_type": "markdown",
   "metadata": {},
   "source": [
    "## Column data types"
   ]
  },
  {
   "cell_type": "markdown",
   "metadata": {},
   "source": [
    "Surface habitable column representes the surface of the appartement, lets rename it and trim (m²) then convert it to int."
   ]
  },
  {
   "cell_type": "code",
   "execution_count": 95,
   "metadata": {},
   "outputs": [],
   "source": [
    "db_data=db_data.rename(columns={\"Surface habitable\": \"Surface habitable (m²)\"})"
   ]
  },
  {
   "cell_type": "code",
   "execution_count": 96,
   "metadata": {},
   "outputs": [],
   "source": [
    "db_data[\"Surface habitable (m²)\"]=db_data[\"Surface habitable (m²)\"].str.strip(\" m²\")\n"
   ]
  },
  {
   "cell_type": "code",
   "execution_count": 97,
   "metadata": {},
   "outputs": [
    {
     "ename": "ValueError",
     "evalue": "cannot convert float NaN to integer",
     "output_type": "error",
     "traceback": [
      "\u001b[1;31m---------------------------------------------------------------------------\u001b[0m",
      "\u001b[1;31mValueError\u001b[0m                                Traceback (most recent call last)",
      "\u001b[1;32mc:\\Users\\amine\\OneDrive\\Documents\\GitHub\\House-pricing\\house-pricing.ipynb Cell 18'\u001b[0m in \u001b[0;36m<cell line: 1>\u001b[1;34m()\u001b[0m\n\u001b[1;32m----> <a href='vscode-notebook-cell:/c%3A/Users/amine/OneDrive/Documents/GitHub/House-pricing/house-pricing.ipynb#ch0000020?line=0'>1</a>\u001b[0m db_data[\u001b[39m\"\u001b[39m\u001b[39mSurface habitable (m²)\u001b[39m\u001b[39m\"\u001b[39m]\u001b[39m=\u001b[39mdb_data[\u001b[39m\"\u001b[39;49m\u001b[39mSurface habitable (m²)\u001b[39;49m\u001b[39m\"\u001b[39;49m]\u001b[39m.\u001b[39;49mastype(\u001b[39m\"\u001b[39;49m\u001b[39mint\u001b[39;49m\u001b[39m\"\u001b[39;49m)\n\u001b[0;32m      <a href='vscode-notebook-cell:/c%3A/Users/amine/OneDrive/Documents/GitHub/House-pricing/house-pricing.ipynb#ch0000020?line=1'>2</a>\u001b[0m db_data\u001b[39m.\u001b[39mhead()\n",
      "File \u001b[1;32mc:\\Users\\amine\\OneDrive\\Documents\\GitHub\\House-pricing\\.venv\\lib\\site-packages\\pandas\\core\\generic.py:5912\u001b[0m, in \u001b[0;36mNDFrame.astype\u001b[1;34m(self, dtype, copy, errors)\u001b[0m\n\u001b[0;32m   <a href='file:///c%3A/Users/amine/OneDrive/Documents/GitHub/House-pricing/.venv/lib/site-packages/pandas/core/generic.py?line=5904'>5905</a>\u001b[0m     results \u001b[39m=\u001b[39m [\n\u001b[0;32m   <a href='file:///c%3A/Users/amine/OneDrive/Documents/GitHub/House-pricing/.venv/lib/site-packages/pandas/core/generic.py?line=5905'>5906</a>\u001b[0m         \u001b[39mself\u001b[39m\u001b[39m.\u001b[39miloc[:, i]\u001b[39m.\u001b[39mastype(dtype, copy\u001b[39m=\u001b[39mcopy)\n\u001b[0;32m   <a href='file:///c%3A/Users/amine/OneDrive/Documents/GitHub/House-pricing/.venv/lib/site-packages/pandas/core/generic.py?line=5906'>5907</a>\u001b[0m         \u001b[39mfor\u001b[39;00m i \u001b[39min\u001b[39;00m \u001b[39mrange\u001b[39m(\u001b[39mlen\u001b[39m(\u001b[39mself\u001b[39m\u001b[39m.\u001b[39mcolumns))\n\u001b[0;32m   <a href='file:///c%3A/Users/amine/OneDrive/Documents/GitHub/House-pricing/.venv/lib/site-packages/pandas/core/generic.py?line=5907'>5908</a>\u001b[0m     ]\n\u001b[0;32m   <a href='file:///c%3A/Users/amine/OneDrive/Documents/GitHub/House-pricing/.venv/lib/site-packages/pandas/core/generic.py?line=5909'>5910</a>\u001b[0m \u001b[39melse\u001b[39;00m:\n\u001b[0;32m   <a href='file:///c%3A/Users/amine/OneDrive/Documents/GitHub/House-pricing/.venv/lib/site-packages/pandas/core/generic.py?line=5910'>5911</a>\u001b[0m     \u001b[39m# else, only a single dtype is given\u001b[39;00m\n\u001b[1;32m-> <a href='file:///c%3A/Users/amine/OneDrive/Documents/GitHub/House-pricing/.venv/lib/site-packages/pandas/core/generic.py?line=5911'>5912</a>\u001b[0m     new_data \u001b[39m=\u001b[39m \u001b[39mself\u001b[39;49m\u001b[39m.\u001b[39;49m_mgr\u001b[39m.\u001b[39;49mastype(dtype\u001b[39m=\u001b[39;49mdtype, copy\u001b[39m=\u001b[39;49mcopy, errors\u001b[39m=\u001b[39;49merrors)\n\u001b[0;32m   <a href='file:///c%3A/Users/amine/OneDrive/Documents/GitHub/House-pricing/.venv/lib/site-packages/pandas/core/generic.py?line=5912'>5913</a>\u001b[0m     \u001b[39mreturn\u001b[39;00m \u001b[39mself\u001b[39m\u001b[39m.\u001b[39m_constructor(new_data)\u001b[39m.\u001b[39m__finalize__(\u001b[39mself\u001b[39m, method\u001b[39m=\u001b[39m\u001b[39m\"\u001b[39m\u001b[39mastype\u001b[39m\u001b[39m\"\u001b[39m)\n\u001b[0;32m   <a href='file:///c%3A/Users/amine/OneDrive/Documents/GitHub/House-pricing/.venv/lib/site-packages/pandas/core/generic.py?line=5914'>5915</a>\u001b[0m \u001b[39m# GH 33113: handle empty frame or series\u001b[39;00m\n",
      "File \u001b[1;32mc:\\Users\\amine\\OneDrive\\Documents\\GitHub\\House-pricing\\.venv\\lib\\site-packages\\pandas\\core\\internals\\managers.py:419\u001b[0m, in \u001b[0;36mBaseBlockManager.astype\u001b[1;34m(self, dtype, copy, errors)\u001b[0m\n\u001b[0;32m    <a href='file:///c%3A/Users/amine/OneDrive/Documents/GitHub/House-pricing/.venv/lib/site-packages/pandas/core/internals/managers.py?line=417'>418</a>\u001b[0m \u001b[39mdef\u001b[39;00m \u001b[39mastype\u001b[39m(\u001b[39mself\u001b[39m: T, dtype, copy: \u001b[39mbool\u001b[39m \u001b[39m=\u001b[39m \u001b[39mFalse\u001b[39;00m, errors: \u001b[39mstr\u001b[39m \u001b[39m=\u001b[39m \u001b[39m\"\u001b[39m\u001b[39mraise\u001b[39m\u001b[39m\"\u001b[39m) \u001b[39m-\u001b[39m\u001b[39m>\u001b[39m T:\n\u001b[1;32m--> <a href='file:///c%3A/Users/amine/OneDrive/Documents/GitHub/House-pricing/.venv/lib/site-packages/pandas/core/internals/managers.py?line=418'>419</a>\u001b[0m     \u001b[39mreturn\u001b[39;00m \u001b[39mself\u001b[39;49m\u001b[39m.\u001b[39;49mapply(\u001b[39m\"\u001b[39;49m\u001b[39mastype\u001b[39;49m\u001b[39m\"\u001b[39;49m, dtype\u001b[39m=\u001b[39;49mdtype, copy\u001b[39m=\u001b[39;49mcopy, errors\u001b[39m=\u001b[39;49merrors)\n",
      "File \u001b[1;32mc:\\Users\\amine\\OneDrive\\Documents\\GitHub\\House-pricing\\.venv\\lib\\site-packages\\pandas\\core\\internals\\managers.py:304\u001b[0m, in \u001b[0;36mBaseBlockManager.apply\u001b[1;34m(self, f, align_keys, ignore_failures, **kwargs)\u001b[0m\n\u001b[0;32m    <a href='file:///c%3A/Users/amine/OneDrive/Documents/GitHub/House-pricing/.venv/lib/site-packages/pandas/core/internals/managers.py?line=301'>302</a>\u001b[0m         applied \u001b[39m=\u001b[39m b\u001b[39m.\u001b[39mapply(f, \u001b[39m*\u001b[39m\u001b[39m*\u001b[39mkwargs)\n\u001b[0;32m    <a href='file:///c%3A/Users/amine/OneDrive/Documents/GitHub/House-pricing/.venv/lib/site-packages/pandas/core/internals/managers.py?line=302'>303</a>\u001b[0m     \u001b[39melse\u001b[39;00m:\n\u001b[1;32m--> <a href='file:///c%3A/Users/amine/OneDrive/Documents/GitHub/House-pricing/.venv/lib/site-packages/pandas/core/internals/managers.py?line=303'>304</a>\u001b[0m         applied \u001b[39m=\u001b[39m \u001b[39mgetattr\u001b[39m(b, f)(\u001b[39m*\u001b[39m\u001b[39m*\u001b[39mkwargs)\n\u001b[0;32m    <a href='file:///c%3A/Users/amine/OneDrive/Documents/GitHub/House-pricing/.venv/lib/site-packages/pandas/core/internals/managers.py?line=304'>305</a>\u001b[0m \u001b[39mexcept\u001b[39;00m (\u001b[39mTypeError\u001b[39;00m, \u001b[39mNotImplementedError\u001b[39;00m):\n\u001b[0;32m    <a href='file:///c%3A/Users/amine/OneDrive/Documents/GitHub/House-pricing/.venv/lib/site-packages/pandas/core/internals/managers.py?line=305'>306</a>\u001b[0m     \u001b[39mif\u001b[39;00m \u001b[39mnot\u001b[39;00m ignore_failures:\n",
      "File \u001b[1;32mc:\\Users\\amine\\OneDrive\\Documents\\GitHub\\House-pricing\\.venv\\lib\\site-packages\\pandas\\core\\internals\\blocks.py:580\u001b[0m, in \u001b[0;36mBlock.astype\u001b[1;34m(self, dtype, copy, errors)\u001b[0m\n\u001b[0;32m    <a href='file:///c%3A/Users/amine/OneDrive/Documents/GitHub/House-pricing/.venv/lib/site-packages/pandas/core/internals/blocks.py?line=561'>562</a>\u001b[0m \u001b[39m\"\"\"\u001b[39;00m\n\u001b[0;32m    <a href='file:///c%3A/Users/amine/OneDrive/Documents/GitHub/House-pricing/.venv/lib/site-packages/pandas/core/internals/blocks.py?line=562'>563</a>\u001b[0m \u001b[39mCoerce to the new dtype.\u001b[39;00m\n\u001b[0;32m    <a href='file:///c%3A/Users/amine/OneDrive/Documents/GitHub/House-pricing/.venv/lib/site-packages/pandas/core/internals/blocks.py?line=563'>564</a>\u001b[0m \n\u001b[1;32m   (...)\u001b[0m\n\u001b[0;32m    <a href='file:///c%3A/Users/amine/OneDrive/Documents/GitHub/House-pricing/.venv/lib/site-packages/pandas/core/internals/blocks.py?line=575'>576</a>\u001b[0m \u001b[39mBlock\u001b[39;00m\n\u001b[0;32m    <a href='file:///c%3A/Users/amine/OneDrive/Documents/GitHub/House-pricing/.venv/lib/site-packages/pandas/core/internals/blocks.py?line=576'>577</a>\u001b[0m \u001b[39m\"\"\"\u001b[39;00m\n\u001b[0;32m    <a href='file:///c%3A/Users/amine/OneDrive/Documents/GitHub/House-pricing/.venv/lib/site-packages/pandas/core/internals/blocks.py?line=577'>578</a>\u001b[0m values \u001b[39m=\u001b[39m \u001b[39mself\u001b[39m\u001b[39m.\u001b[39mvalues\n\u001b[1;32m--> <a href='file:///c%3A/Users/amine/OneDrive/Documents/GitHub/House-pricing/.venv/lib/site-packages/pandas/core/internals/blocks.py?line=579'>580</a>\u001b[0m new_values \u001b[39m=\u001b[39m astype_array_safe(values, dtype, copy\u001b[39m=\u001b[39;49mcopy, errors\u001b[39m=\u001b[39;49merrors)\n\u001b[0;32m    <a href='file:///c%3A/Users/amine/OneDrive/Documents/GitHub/House-pricing/.venv/lib/site-packages/pandas/core/internals/blocks.py?line=581'>582</a>\u001b[0m new_values \u001b[39m=\u001b[39m maybe_coerce_values(new_values)\n\u001b[0;32m    <a href='file:///c%3A/Users/amine/OneDrive/Documents/GitHub/House-pricing/.venv/lib/site-packages/pandas/core/internals/blocks.py?line=582'>583</a>\u001b[0m newb \u001b[39m=\u001b[39m \u001b[39mself\u001b[39m\u001b[39m.\u001b[39mmake_block(new_values)\n",
      "File \u001b[1;32mc:\\Users\\amine\\OneDrive\\Documents\\GitHub\\House-pricing\\.venv\\lib\\site-packages\\pandas\\core\\dtypes\\cast.py:1292\u001b[0m, in \u001b[0;36mastype_array_safe\u001b[1;34m(values, dtype, copy, errors)\u001b[0m\n\u001b[0;32m   <a href='file:///c%3A/Users/amine/OneDrive/Documents/GitHub/House-pricing/.venv/lib/site-packages/pandas/core/dtypes/cast.py?line=1288'>1289</a>\u001b[0m     dtype \u001b[39m=\u001b[39m dtype\u001b[39m.\u001b[39mnumpy_dtype\n\u001b[0;32m   <a href='file:///c%3A/Users/amine/OneDrive/Documents/GitHub/House-pricing/.venv/lib/site-packages/pandas/core/dtypes/cast.py?line=1290'>1291</a>\u001b[0m \u001b[39mtry\u001b[39;00m:\n\u001b[1;32m-> <a href='file:///c%3A/Users/amine/OneDrive/Documents/GitHub/House-pricing/.venv/lib/site-packages/pandas/core/dtypes/cast.py?line=1291'>1292</a>\u001b[0m     new_values \u001b[39m=\u001b[39m astype_array(values, dtype, copy\u001b[39m=\u001b[39;49mcopy)\n\u001b[0;32m   <a href='file:///c%3A/Users/amine/OneDrive/Documents/GitHub/House-pricing/.venv/lib/site-packages/pandas/core/dtypes/cast.py?line=1292'>1293</a>\u001b[0m \u001b[39mexcept\u001b[39;00m (\u001b[39mValueError\u001b[39;00m, \u001b[39mTypeError\u001b[39;00m):\n\u001b[0;32m   <a href='file:///c%3A/Users/amine/OneDrive/Documents/GitHub/House-pricing/.venv/lib/site-packages/pandas/core/dtypes/cast.py?line=1293'>1294</a>\u001b[0m     \u001b[39m# e.g. astype_nansafe can fail on object-dtype of strings\u001b[39;00m\n\u001b[0;32m   <a href='file:///c%3A/Users/amine/OneDrive/Documents/GitHub/House-pricing/.venv/lib/site-packages/pandas/core/dtypes/cast.py?line=1294'>1295</a>\u001b[0m     \u001b[39m#  trying to convert to float\u001b[39;00m\n\u001b[0;32m   <a href='file:///c%3A/Users/amine/OneDrive/Documents/GitHub/House-pricing/.venv/lib/site-packages/pandas/core/dtypes/cast.py?line=1295'>1296</a>\u001b[0m     \u001b[39mif\u001b[39;00m errors \u001b[39m==\u001b[39m \u001b[39m\"\u001b[39m\u001b[39mignore\u001b[39m\u001b[39m\"\u001b[39m:\n",
      "File \u001b[1;32mc:\\Users\\amine\\OneDrive\\Documents\\GitHub\\House-pricing\\.venv\\lib\\site-packages\\pandas\\core\\dtypes\\cast.py:1237\u001b[0m, in \u001b[0;36mastype_array\u001b[1;34m(values, dtype, copy)\u001b[0m\n\u001b[0;32m   <a href='file:///c%3A/Users/amine/OneDrive/Documents/GitHub/House-pricing/.venv/lib/site-packages/pandas/core/dtypes/cast.py?line=1233'>1234</a>\u001b[0m     values \u001b[39m=\u001b[39m values\u001b[39m.\u001b[39mastype(dtype, copy\u001b[39m=\u001b[39mcopy)\n\u001b[0;32m   <a href='file:///c%3A/Users/amine/OneDrive/Documents/GitHub/House-pricing/.venv/lib/site-packages/pandas/core/dtypes/cast.py?line=1235'>1236</a>\u001b[0m \u001b[39melse\u001b[39;00m:\n\u001b[1;32m-> <a href='file:///c%3A/Users/amine/OneDrive/Documents/GitHub/House-pricing/.venv/lib/site-packages/pandas/core/dtypes/cast.py?line=1236'>1237</a>\u001b[0m     values \u001b[39m=\u001b[39m astype_nansafe(values, dtype, copy\u001b[39m=\u001b[39;49mcopy)\n\u001b[0;32m   <a href='file:///c%3A/Users/amine/OneDrive/Documents/GitHub/House-pricing/.venv/lib/site-packages/pandas/core/dtypes/cast.py?line=1238'>1239</a>\u001b[0m \u001b[39m# in pandas we don't store numpy str dtypes, so convert to object\u001b[39;00m\n\u001b[0;32m   <a href='file:///c%3A/Users/amine/OneDrive/Documents/GitHub/House-pricing/.venv/lib/site-packages/pandas/core/dtypes/cast.py?line=1239'>1240</a>\u001b[0m \u001b[39mif\u001b[39;00m \u001b[39misinstance\u001b[39m(dtype, np\u001b[39m.\u001b[39mdtype) \u001b[39mand\u001b[39;00m \u001b[39missubclass\u001b[39m(values\u001b[39m.\u001b[39mdtype\u001b[39m.\u001b[39mtype, \u001b[39mstr\u001b[39m):\n",
      "File \u001b[1;32mc:\\Users\\amine\\OneDrive\\Documents\\GitHub\\House-pricing\\.venv\\lib\\site-packages\\pandas\\core\\dtypes\\cast.py:1154\u001b[0m, in \u001b[0;36mastype_nansafe\u001b[1;34m(arr, dtype, copy, skipna)\u001b[0m\n\u001b[0;32m   <a href='file:///c%3A/Users/amine/OneDrive/Documents/GitHub/House-pricing/.venv/lib/site-packages/pandas/core/dtypes/cast.py?line=1149'>1150</a>\u001b[0m \u001b[39melif\u001b[39;00m is_object_dtype(arr\u001b[39m.\u001b[39mdtype):\n\u001b[0;32m   <a href='file:///c%3A/Users/amine/OneDrive/Documents/GitHub/House-pricing/.venv/lib/site-packages/pandas/core/dtypes/cast.py?line=1150'>1151</a>\u001b[0m \n\u001b[0;32m   <a href='file:///c%3A/Users/amine/OneDrive/Documents/GitHub/House-pricing/.venv/lib/site-packages/pandas/core/dtypes/cast.py?line=1151'>1152</a>\u001b[0m     \u001b[39m# work around NumPy brokenness, #1987\u001b[39;00m\n\u001b[0;32m   <a href='file:///c%3A/Users/amine/OneDrive/Documents/GitHub/House-pricing/.venv/lib/site-packages/pandas/core/dtypes/cast.py?line=1152'>1153</a>\u001b[0m     \u001b[39mif\u001b[39;00m np\u001b[39m.\u001b[39missubdtype(dtype\u001b[39m.\u001b[39mtype, np\u001b[39m.\u001b[39minteger):\n\u001b[1;32m-> <a href='file:///c%3A/Users/amine/OneDrive/Documents/GitHub/House-pricing/.venv/lib/site-packages/pandas/core/dtypes/cast.py?line=1153'>1154</a>\u001b[0m         \u001b[39mreturn\u001b[39;00m lib\u001b[39m.\u001b[39;49mastype_intsafe(arr, dtype)\n\u001b[0;32m   <a href='file:///c%3A/Users/amine/OneDrive/Documents/GitHub/House-pricing/.venv/lib/site-packages/pandas/core/dtypes/cast.py?line=1155'>1156</a>\u001b[0m     \u001b[39m# if we have a datetime/timedelta array of objects\u001b[39;00m\n\u001b[0;32m   <a href='file:///c%3A/Users/amine/OneDrive/Documents/GitHub/House-pricing/.venv/lib/site-packages/pandas/core/dtypes/cast.py?line=1156'>1157</a>\u001b[0m     \u001b[39m# then coerce to a proper dtype and recall astype_nansafe\u001b[39;00m\n\u001b[0;32m   <a href='file:///c%3A/Users/amine/OneDrive/Documents/GitHub/House-pricing/.venv/lib/site-packages/pandas/core/dtypes/cast.py?line=1158'>1159</a>\u001b[0m     \u001b[39melif\u001b[39;00m is_datetime64_dtype(dtype):\n",
      "File \u001b[1;32mc:\\Users\\amine\\OneDrive\\Documents\\GitHub\\House-pricing\\.venv\\lib\\site-packages\\pandas\\_libs\\lib.pyx:668\u001b[0m, in \u001b[0;36mpandas._libs.lib.astype_intsafe\u001b[1;34m()\u001b[0m\n",
      "\u001b[1;31mValueError\u001b[0m: cannot convert float NaN to integer"
     ]
    }
   ],
   "source": [
    "db_data[\"Surface habitable (m²)\"]=db_data[\"Surface habitable (m²)\"].astype(\"int\")\n",
    "db_data.head()"
   ]
  }
 ],
 "metadata": {
  "interpreter": {
   "hash": "fabadde827402a2b3a7240b20a18d809f0fdebca841534199a07dd98d3befe03"
  },
  "kernelspec": {
   "display_name": "Python 3.9.6 ('.venv': venv)",
   "language": "python",
   "name": "python3"
  },
  "language_info": {
   "codemirror_mode": {
    "name": "ipython",
    "version": 3
   },
   "file_extension": ".py",
   "mimetype": "text/x-python",
   "name": "python",
   "nbconvert_exporter": "python",
   "pygments_lexer": "ipython3",
   "version": "3.9.6"
  },
  "orig_nbformat": 4
 },
 "nbformat": 4,
 "nbformat_minor": 2
}
