{
 "cells": [
  {
   "cell_type": "code",
   "execution_count": 1,
   "id": "f050f941-dccd-4bfe-aa49-adc080783b6c",
   "metadata": {},
   "outputs": [],
   "source": [
    "import pandas as pd\n",
    "import numpy as np\n",
    "import re "
   ]
  },
  {
   "cell_type": "code",
   "execution_count": 4,
   "id": "2d08a73f-1edb-4b39-a961-faf43026843b",
   "metadata": {},
   "outputs": [],
   "source": [
    "data = pd.read_csv('avito_data.csv')"
   ]
  },
  {
   "cell_type": "code",
   "execution_count": 5,
   "id": "5b56f932-1a38-49b4-80e6-a0824dd73e0a",
   "metadata": {},
   "outputs": [
    {
     "data": {
      "text/html": [
       "<div>\n",
       "<style scoped>\n",
       "    .dataframe tbody tr th:only-of-type {\n",
       "        vertical-align: middle;\n",
       "    }\n",
       "\n",
       "    .dataframe tbody tr th {\n",
       "        vertical-align: top;\n",
       "    }\n",
       "\n",
       "    .dataframe thead th {\n",
       "        text-align: right;\n",
       "    }\n",
       "</style>\n",
       "<table border=\"1\" class=\"dataframe\">\n",
       "  <thead>\n",
       "    <tr style=\"text-align: right;\">\n",
       "      <th></th>\n",
       "      <th>Unnamed: 0</th>\n",
       "      <th>subject</th>\n",
       "      <th>description</th>\n",
       "      <th>Price</th>\n",
       "      <th>Type</th>\n",
       "      <th>Secteur</th>\n",
       "      <th>Prix / m²</th>\n",
       "      <th>Salons</th>\n",
       "      <th>Frais de syndic / mois</th>\n",
       "      <th>Étage</th>\n",
       "      <th>Âge du bien</th>\n",
       "      <th>Surface habitable</th>\n",
       "      <th>link</th>\n",
       "    </tr>\n",
       "  </thead>\n",
       "  <tbody>\n",
       "    <tr>\n",
       "      <th>0</th>\n",
       "      <td>0</td>\n",
       "      <td>Appartement à Haut Anza</td>\n",
       "      <td>Appartement neuf bien agencé à trois façades d...</td>\n",
       "      <td>305000</td>\n",
       "      <td>Appartements, Vente</td>\n",
       "      <td>Haut Anza</td>\n",
       "      <td>NaN</td>\n",
       "      <td>1.0</td>\n",
       "      <td>50 DH</td>\n",
       "      <td>3</td>\n",
       "      <td>NaN</td>\n",
       "      <td>60 m²</td>\n",
       "      <td>https://avito.ma/fr/haut_anza/appartements/App...</td>\n",
       "    </tr>\n",
       "    <tr>\n",
       "      <th>1</th>\n",
       "      <td>1</td>\n",
       "      <td>appartement à vendre Hay Salam Agadir</td>\n",
       "      <td>Appartements à vendre dans la première ville d...</td>\n",
       "      <td>480000</td>\n",
       "      <td>Appartements, Vente</td>\n",
       "      <td>Hay Salam</td>\n",
       "      <td>NaN</td>\n",
       "      <td>1.0</td>\n",
       "      <td>100 DH</td>\n",
       "      <td>3</td>\n",
       "      <td>NaN</td>\n",
       "      <td>64 m²</td>\n",
       "      <td>https://avito.ma/fr/hay_salam/appartements/app...</td>\n",
       "    </tr>\n",
       "    <tr>\n",
       "      <th>2</th>\n",
       "      <td>2</td>\n",
       "      <td>appartement à vendre Hay Salam</td>\n",
       "      <td>Appartements à vendre dans la première ville d...</td>\n",
       "      <td>620000</td>\n",
       "      <td>Appartements, Vente</td>\n",
       "      <td>Hay Salam</td>\n",
       "      <td>NaN</td>\n",
       "      <td>1.0</td>\n",
       "      <td>100 DH</td>\n",
       "      <td>5</td>\n",
       "      <td>1-5 ans</td>\n",
       "      <td>86 m²</td>\n",
       "      <td>https://avito.ma/fr/hay_salam/appartements/app...</td>\n",
       "    </tr>\n",
       "    <tr>\n",
       "      <th>3</th>\n",
       "      <td>3</td>\n",
       "      <td>super studio à Agadir</td>\n",
       "      <td>studio refait à neuf et meublé avec goût,dans ...</td>\n",
       "      <td>500000</td>\n",
       "      <td>Appartements, Vente</td>\n",
       "      <td>Hay Dakhla</td>\n",
       "      <td>NaN</td>\n",
       "      <td>NaN</td>\n",
       "      <td>100 DH</td>\n",
       "      <td>2</td>\n",
       "      <td>1-5 ans</td>\n",
       "      <td>NaN</td>\n",
       "      <td>https://avito.ma/fr/hay_dakhla/appartements/su...</td>\n",
       "    </tr>\n",
       "    <tr>\n",
       "      <th>4</th>\n",
       "      <td>4</td>\n",
       "      <td>Appartement bien située</td>\n",
       "      <td>appartement a vendre vide 2 chambres ;salon et...</td>\n",
       "      <td>475000</td>\n",
       "      <td>Appartements, Vente</td>\n",
       "      <td>Autre secteur</td>\n",
       "      <td>NaN</td>\n",
       "      <td>NaN</td>\n",
       "      <td>120 DH</td>\n",
       "      <td>3</td>\n",
       "      <td>NaN</td>\n",
       "      <td>NaN</td>\n",
       "      <td>https://avito.ma/fr/autre_secteur/appartements...</td>\n",
       "    </tr>\n",
       "  </tbody>\n",
       "</table>\n",
       "</div>"
      ],
      "text/plain": [
       "   Unnamed: 0                                 subject  \\\n",
       "0           0                 Appartement à Haut Anza   \n",
       "1           1  appartement à vendre Hay Salam Agadir    \n",
       "2           2          appartement à vendre Hay Salam   \n",
       "3           3                   super studio à Agadir   \n",
       "4           4                 Appartement bien située   \n",
       "\n",
       "                                         description   Price  \\\n",
       "0  Appartement neuf bien agencé à trois façades d...  305000   \n",
       "1  Appartements à vendre dans la première ville d...  480000   \n",
       "2  Appartements à vendre dans la première ville d...  620000   \n",
       "3  studio refait à neuf et meublé avec goût,dans ...  500000   \n",
       "4  appartement a vendre vide 2 chambres ;salon et...  475000   \n",
       "\n",
       "                  Type        Secteur Prix / m²  Salons  \\\n",
       "0  Appartements, Vente      Haut Anza       NaN     1.0   \n",
       "1  Appartements, Vente      Hay Salam       NaN     1.0   \n",
       "2  Appartements, Vente      Hay Salam       NaN     1.0   \n",
       "3  Appartements, Vente     Hay Dakhla       NaN     NaN   \n",
       "4  Appartements, Vente  Autre secteur       NaN     NaN   \n",
       "\n",
       "  Frais de syndic / mois Étage Âge du bien Surface habitable  \\\n",
       "0                  50 DH     3         NaN             60 m²   \n",
       "1                 100 DH     3         NaN             64 m²   \n",
       "2                 100 DH     5     1-5 ans             86 m²   \n",
       "3                 100 DH     2     1-5 ans               NaN   \n",
       "4                 120 DH     3         NaN               NaN   \n",
       "\n",
       "                                                link  \n",
       "0  https://avito.ma/fr/haut_anza/appartements/App...  \n",
       "1  https://avito.ma/fr/hay_salam/appartements/app...  \n",
       "2  https://avito.ma/fr/hay_salam/appartements/app...  \n",
       "3  https://avito.ma/fr/hay_dakhla/appartements/su...  \n",
       "4  https://avito.ma/fr/autre_secteur/appartements...  "
      ]
     },
     "execution_count": 5,
     "metadata": {},
     "output_type": "execute_result"
    }
   ],
   "source": [
    "data.head()"
   ]
  },
  {
   "cell_type": "code",
   "execution_count": 10,
   "id": "9b933e85-d8cf-45cb-9614-1f70f44b8c2b",
   "metadata": {},
   "outputs": [
    {
     "name": "stdout",
     "output_type": "stream",
     "text": [
      "شقة ممتازة 85متر بحي الهدي أيت ملول  \n"
     ]
    }
   ],
   "source": [
    "print(data.subject[8])"
   ]
  },
  {
   "cell_type": "code",
   "execution_count": 12,
   "id": "1626ca0c-72f4-4b14-b154-d3173f104aeb",
   "metadata": {},
   "outputs": [
    {
     "name": "stdout",
     "output_type": "stream",
     "text": [
      "0                                 Appartement à Haut Anza\n",
      "1                  appartement à vendre Hay Salam Agadir \n",
      "2                          appartement à vendre Hay Salam\n",
      "3                                   super studio à Agadir\n",
      "4                                 Appartement bien située\n",
      "                              ...                        \n",
      "1983                      magnifique appartement a vendre\n",
      "1984    top affaire magnifique appartement a vendre ag...\n",
      "1985                      magnifique appartement a vendre\n",
      "1986                             bel appartement a vendre\n",
      "1987       magnifique appartement a vendre a la palmeraie\n",
      "Name: subject, Length: 1988, dtype: object\n",
      "0       Appartement neuf bien agencé à trois façades d...\n",
      "1       Appartements à vendre dans la première ville d...\n",
      "2       Appartements à vendre dans la première ville d...\n",
      "3       studio refait à neuf et meublé avec goût,dans ...\n",
      "4       appartement a vendre vide 2 chambres ;salon et...\n",
      "                              ...                        \n",
      "1983    Superbe appartement  idéalement bien situé au ...\n",
      "1984    Dans une  résidence calme et sécurisée avec pi...\n",
      "1985    Sur la route de lourikadans un complexe réside...\n",
      "1986    Appartement  de 111 m² a vendre   dans une rés...\n",
      "1987    Au cœur de La Palmeraie , dans une résidence f...\n",
      "Name: description, Length: 1988, dtype: object\n"
     ]
    }
   ],
   "source": [
    "print(data.subject)\n",
    "print(data.description)"
   ]
  },
  {
   "cell_type": "code",
   "execution_count": null,
   "id": "2cd8a3d7-ab7d-4ada-b168-02567a6cdd3f",
   "metadata": {},
   "outputs": [],
   "source": []
  }
 ],
 "metadata": {
  "kernelspec": {
   "display_name": "Python 3 (ipykernel)",
   "language": "python",
   "name": "python3"
  },
  "language_info": {
   "codemirror_mode": {
    "name": "ipython",
    "version": 3
   },
   "file_extension": ".py",
   "mimetype": "text/x-python",
   "name": "python",
   "nbconvert_exporter": "python",
   "pygments_lexer": "ipython3",
   "version": "3.9.7"
  }
 },
 "nbformat": 4,
 "nbformat_minor": 5
}
