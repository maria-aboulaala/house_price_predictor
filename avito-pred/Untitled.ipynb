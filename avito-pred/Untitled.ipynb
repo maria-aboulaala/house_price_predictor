{
 "cells": [
  {
   "cell_type": "code",
   "execution_count": 2,
   "id": "ec28e46f-19a3-40aa-b459-ac798ada13de",
   "metadata": {},
   "outputs": [],
   "source": [
    "import scrapy\n",
    "from scrapy.crawler import CrawlerProcess\n",
    "import csv \n",
    "import json"
   ]
  },
  {
   "cell_type": "code",
   "execution_count": 3,
   "id": "79c43e12-fe01-4e35-9984-1f0e34bf2c4b",
   "metadata": {},
   "outputs": [],
   "source": [
    "class saroutySpider(scrapy.Spider):\n",
    "    name = \"sarouty\"\n",
    "    "
   ]
  },
  {
   "cell_type": "code",
   "execution_count": null,
   "id": "95f18908-39c0-46d4-9288-ec51c9affc01",
   "metadata": {},
   "outputs": [],
   "source": []
  },
  {
   "cell_type": "code",
   "execution_count": null,
   "id": "ff2ca095-3c5d-4762-b398-6f356d2b130a",
   "metadata": {},
   "outputs": [],
   "source": []
  },
  {
   "cell_type": "code",
   "execution_count": null,
   "id": "df32dc17-33fb-4b6a-8c21-1766312f56e0",
   "metadata": {},
   "outputs": [],
   "source": []
  },
  {
   "cell_type": "code",
   "execution_count": null,
   "id": "1895be9c-cd8e-4009-8976-b392705aa522",
   "metadata": {},
   "outputs": [],
   "source": []
  },
  {
   "cell_type": "code",
   "execution_count": null,
   "id": "9e8e7f42-f3e4-4d05-9945-ace28c9704d6",
   "metadata": {},
   "outputs": [],
   "source": [
    "process = CrawlerProcess()\n",
    "process.crawl(saroutySpider)\n",
    "process.start()"
   ]
  }
 ],
 "metadata": {
  "kernelspec": {
   "display_name": "Python 3 (ipykernel)",
   "language": "python",
   "name": "python3"
  },
  "language_info": {
   "codemirror_mode": {
    "name": "ipython",
    "version": 3
   },
   "file_extension": ".py",
   "mimetype": "text/x-python",
   "name": "python",
   "nbconvert_exporter": "python",
   "pygments_lexer": "ipython3",
   "version": "3.9.7"
  }
 },
 "nbformat": 4,
 "nbformat_minor": 5
}
