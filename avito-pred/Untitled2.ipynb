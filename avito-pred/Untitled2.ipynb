{
 "cells": [
  {
   "cell_type": "code",
   "execution_count": 1,
   "id": "6856a2f7-7efc-4fcf-9233-87ec209dc4e0",
   "metadata": {},
   "outputs": [],
   "source": [
    "# Import the required library\n",
    "import scrapy\n",
    "\n",
    "\n",
    "# Spider class\n",
    "class saroutySpider(scrapy.Spider):\n",
    "\n",
    "# The name of the spider\n",
    "\tname = 'sarouty'\n",
    "\t\n",
    "\t# The domain, the spider will crawl\n",
    "\tallowed_domains = ['www.sarouty.ma']\n",
    "\t\n",
    "\t# The URL of the webpage, data from which\n",
    "\t# will get scraped\n",
    "\tstart_urls = ['https://www.sarouty.ma']\n",
    "  \n",
    "\t# default start function which will hold\n",
    "\t# the code for navigating and gathering\n",
    "\t# the data from tags\n",
    "\tdef parse(self, response):\n",
    "\t\tpass\n",
    "\n"
   ]
  },
  {
   "cell_type": "code",
   "execution_count": 3,
   "id": "6b0b0975-aae7-40bc-99fc-6288b55b5ba5",
   "metadata": {},
   "outputs": [],
   "source": [
    "def parse(self, response):\n",
    "    html_file = 'sarouty_file.html'\n",
    "    with open (html_file , 'wb') as fout:\n",
    "        fout.write(response.body)\n",
    "        price = response.css('div.featured-properties__price::text').extract()"
   ]
  },
  {
   "cell_type": "code",
   "execution_count": 17,
   "id": "4724e25c-296e-47b6-958c-de4de485a54d",
   "metadata": {},
   "outputs": [],
   "source": [
    "BOT_NAME = 'saroutySpider'\n",
    " \n",
    "SPIDER_MODULES = ['saroutySpider']\n",
    "NEWSPIDER_MODULE = ['saroutySpider']\n",
    " \n",
    "# Obey robots.txt rules\n",
    "ROBOTSTXT_OBEY = True\n",
    " \n",
    "# Desired file format\n",
    "FEED_FORMAT = \"json\"\n",
    " \n",
    "# Name of the file where\n",
    "# data extracted is stored\n",
    "FEED_URI = \"friendshipfeed.json\""
   ]
  },
  {
   "cell_type": "code",
   "execution_count": 18,
   "id": "787c1cf8-0534-4b51-b329-179c1b9ff969",
   "metadata": {},
   "outputs": [],
   "source": [
    "BOT_NAME = 'saroutySpider'\n",
    " \n",
    "SPIDER_MODULES = ['saroutySpider']\n",
    "NEWSPIDER_MODULE = ['saroutySpider']\n",
    " \n",
    "# Obey robots.txt rules\n",
    "ROBOTSTXT_OBEY = True\n",
    " \n",
    "# Desired file format\n",
    "FEED_FORMAT = \"csv\"\n",
    " \n",
    "# Name of the file where data extracted is stored\n",
    "FEED_URI = \"friendshipfeed.csv\""
   ]
  },
  {
   "cell_type": "code",
   "execution_count": null,
   "id": "aa755798-17d2-4c9c-8d13-30d3f26f2bd1",
   "metadata": {},
   "outputs": [],
   "source": []
  }
 ],
 "metadata": {
  "kernelspec": {
   "display_name": "Python 3 (ipykernel)",
   "language": "python",
   "name": "python3"
  },
  "language_info": {
   "codemirror_mode": {
    "name": "ipython",
    "version": 3
   },
   "file_extension": ".py",
   "mimetype": "text/x-python",
   "name": "python",
   "nbconvert_exporter": "python",
   "pygments_lexer": "ipython3",
   "version": "3.9.7"
  }
 },
 "nbformat": 4,
 "nbformat_minor": 5
}
