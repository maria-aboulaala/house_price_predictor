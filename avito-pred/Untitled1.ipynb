{
 "cells": [
  {
   "cell_type": "code",
   "execution_count": 16,
   "id": "1824106f-55dc-46d5-b3d8-fd59cc1840ec",
   "metadata": {},
   "outputs": [
    {
     "ename": "IndentationError",
     "evalue": "unexpected indent (1605382037.py, line 23)",
     "output_type": "error",
     "traceback": [
      "\u001b[0;36m  File \u001b[0;32m\"/var/folders/rz/qcp1k29x0mx1nw_33w719nmm0000gn/T/ipykernel_10109/1605382037.py\"\u001b[0;36m, line \u001b[0;32m23\u001b[0m\n\u001b[0;31m    yield scrapy.Requests(url = url , callback = self.parse)\u001b[0m\n\u001b[0m    ^\u001b[0m\n\u001b[0;31mIndentationError\u001b[0m\u001b[0;31m:\u001b[0m unexpected indent\n"
     ]
    }
   ],
   "source": [
    "import scrapy\n",
    "from scrapy.crawler import CrawlerProcess\n",
    "import json\n",
    "import csv\n",
    "\n",
    "\n",
    "class Pharmeasy(scrapy.Spider):\n",
    "    name = 'pharmeasy'\n",
    "    \n",
    "    base_url = 'https://www.sarouty.ma'\n",
    "    headers = {\n",
    "        'user-agent': 'Mozilla/5.0 (X11; Linux x86_64) AppleWebKit/537.36 (KHTML, like Gecko) Chrome/79.0.3945.130 Safari/537.36'\n",
    "    }\n",
    "    \n",
    "    def __init__(self):\n",
    "        with open('pharmeasy.csv', 'w') as csv_file:\n",
    "            csv_file.write('name,slug,manufacturer,price,availability,images\\n')\n",
    "    \n",
    "    def start_requests(self):\n",
    "        # scrape data from infinite scroll\n",
    "        for page in range(0, 4):    # specify page range you would like to scrape data for\n",
    "            next_page = self.base_url + str(page)\n",
    "              yield scrapy.Requests(url = url , callback = self.parse)\n",
    "\n",
    "    \n",
    "    def parse(self, response):\n",
    "        data = ''\n",
    "        with open('res.json', 'r') as json_file:\n",
    "            for line in json_file.read():\n",
    "               price = response.css('div.featured-properties__price::text').extract()  \n",
    "        # data extraction logic\n",
    "        for product in data['data']['products']:\n",
    "            items = {\n",
    "                'name': product['name'],\n",
    "                'slug': product['slug'],\n",
    "                'manufacturer': product['manufacturer'],\n",
    "                'price': product['salePriceDecimal'],\n",
    "                'availability': product['productAvailabilityFlags']['isAvailable'],\n",
    "                'images': ', '.join(product['images'])\n",
    "            }\n",
    "\n",
    "            # append results to CSV\n",
    "            with open('pharmeasy.csv', 'a') as csv_file:\n",
    "                writer = csv.DictWriter(csv_file, fieldnames=items.keys())\n",
    "                writer.writerow(items)\n",
    "import sys    \n",
    "if \"twisted.internet.reactor\" in sys.modules: \n",
    "    del sys.modules[\"twisted.internet.reactor\"]\n",
    "# run scraper\n",
    "process = CrawlerProcess()\n",
    "process.crawl(Pharmeasy)\n",
    "process.start()\n",
    "\n",
    "# debug data extraction\n",
    "#Pharmeasy.parse(Pharmeasy, '')"
   ]
  },
  {
   "cell_type": "code",
   "execution_count": 12,
   "id": "71c3c1b7-ad68-483e-8ab4-f807c0b62003",
   "metadata": {},
   "outputs": [],
   "source": [
    "import pandas as pd\n",
    "data = pd.read_csv('pharmeasy.csv')"
   ]
  },
  {
   "cell_type": "code",
   "execution_count": 13,
   "id": "b814cc49-b5e7-4dbf-9196-ab0487a134c7",
   "metadata": {},
   "outputs": [
    {
     "data": {
      "text/html": [
       "<div>\n",
       "<style scoped>\n",
       "    .dataframe tbody tr th:only-of-type {\n",
       "        vertical-align: middle;\n",
       "    }\n",
       "\n",
       "    .dataframe tbody tr th {\n",
       "        vertical-align: top;\n",
       "    }\n",
       "\n",
       "    .dataframe thead th {\n",
       "        text-align: right;\n",
       "    }\n",
       "</style>\n",
       "<table border=\"1\" class=\"dataframe\">\n",
       "  <thead>\n",
       "    <tr style=\"text-align: right;\">\n",
       "      <th></th>\n",
       "      <th>name</th>\n",
       "      <th>slug</th>\n",
       "      <th>manufacturer</th>\n",
       "      <th>price</th>\n",
       "      <th>availability</th>\n",
       "      <th>images</th>\n",
       "    </tr>\n",
       "  </thead>\n",
       "  <tbody>\n",
       "  </tbody>\n",
       "</table>\n",
       "</div>"
      ],
      "text/plain": [
       "Empty DataFrame\n",
       "Columns: [name, slug, manufacturer, price, availability, images]\n",
       "Index: []"
      ]
     },
     "execution_count": 13,
     "metadata": {},
     "output_type": "execute_result"
    }
   ],
   "source": [
    "data.head()"
   ]
  },
  {
   "cell_type": "code",
   "execution_count": null,
   "id": "05ef1858-4cc4-4c0f-9ba6-362701612ecc",
   "metadata": {},
   "outputs": [],
   "source": []
  }
 ],
 "metadata": {
  "kernelspec": {
   "display_name": "Python 3 (ipykernel)",
   "language": "python",
   "name": "python3"
  },
  "language_info": {
   "codemirror_mode": {
    "name": "ipython",
    "version": 3
   },
   "file_extension": ".py",
   "mimetype": "text/x-python",
   "name": "python",
   "nbconvert_exporter": "python",
   "pygments_lexer": "ipython3",
   "version": "3.9.7"
  }
 },
 "nbformat": 4,
 "nbformat_minor": 5
}
